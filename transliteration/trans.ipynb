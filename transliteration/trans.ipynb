{
 "cells": [
  {
   "cell_type": "code",
   "execution_count": 1,
   "metadata": {},
   "outputs": [],
   "source": [
    "import os\n",
    "import re\n",
    "import string"
   ]
  },
  {
   "cell_type": "code",
   "execution_count": 2,
   "metadata": {},
   "outputs": [],
   "source": [
    "def multiple_replace(dict, text):\n",
    "    regex = re.compile(\"(%s)\" % \"|\".join(map(re.escape, dict.keys())))\n",
    "    return regex.sub(lambda mo: dict[mo.string[mo.start():mo.end()]], text)"
   ]
  },
  {
   "cell_type": "code",
   "execution_count": 3,
   "metadata": {},
   "outputs": [],
   "source": [
    "dict_brackets = {')':'','(':''}\n",
    "\n",
    "dict_voiced = {'mp':'мб', 'mt':'мд', 'mc':'мз', 'mk':'мг', 'nt':'нд', 'nc':'нз', 'ŋk':'ӈг'}\n",
    "\n",
    "dict_cons = {'b':'б', 'w':'в', 'g':'г', 'd':'д', 'z':'з', 'k':'к', 'l':'л', 'm':'м', 'n':'н',\n",
    "             'ŋ':'ӈ', 'p':'п', 'r':'р','s':'с', 't':'т', 'x':'х', 'c':'ц', 'q':'\\\"', 'h':\"\\'\"}\n",
    "\n",
    "dict_vowels0 = {'ʹa':'я', 'ʹi':'и', 'ʹu':'ю', 'ʹe':'е', 'ʹo':'ё', 'ʹí':'и', 'ʹú':'ю'}\n",
    "\n",
    "dict_vowels1 = {'a':'а', 'i':'ы', 'u':'у', 'e':'э', 'o':'о', 'í':'ы', 'ú':'у', 'æ':'э'}\n",
    "\n",
    "dict_harmony_simple = {\n",
    "'ах°':'аха',\n",
    "'ахə':'аха',\n",
    "\n",
    "\n",
    "'ых°':'ыхы',\n",
    "'ыхə':'ыхы',\n",
    "'ыхa':'ыхы',\n",
    "\n",
    "'ух°':'уху',\n",
    "'ухə':'уху',\n",
    "'ухa':'уху',\n",
    "\n",
    "'эх°':'эхэ',\n",
    "'эхə':'эхэ',\n",
    "'эхa':'эхэ',\n",
    "\n",
    "'ох°':'охо',\n",
    "'охə':'охо',\n",
    "'охa':'охо',\n",
    "\n",
    "'ях°':'яхя',\n",
    "'яхə':'яхя',\n",
    "'яхa':'яхя',\n",
    "\n",
    "'их°':'ихи',\n",
    "'ихə':'ихи',\n",
    "'ихa':'ихи',\n",
    "\n",
    "'юх°':'юхю',\n",
    "'юхə':'юхю',\n",
    "'юхa':'юхю',\n",
    "\n",
    "'ех°':'ехе',\n",
    "'ехə':'ехе',\n",
    "'ехa':'ехе',\n",
    "\n",
    "'ёх°':'ёхё',\n",
    "'ёхə':'ёхё',\n",
    "'ёхa':'ёхё',\n",
    "\n",
    "}\n",
    "\n",
    "dict_vowels2 = {\n",
    "'yа':'я',\n",
    "'yу':'ю',\n",
    "'yэ':'е',\n",
    "'yо':'ё',\n",
    "'ə':'а',\n",
    "'ʹə':'я',\n",
    "}\n",
    "\n",
    "dict_y = {'y':'й'}\n",
    "\n",
    "dict_delete = {'°':''}"
   ]
  },
  {
   "cell_type": "code",
   "execution_count": 4,
   "metadata": {},
   "outputs": [],
   "source": [
    "def transliterate(text):\n",
    "    a = (multiple_replace(dict_brackets, text))\n",
    "    \n",
    "    dicts = [dict_voiced, dict_cons, dict_vowels0, dict_vowels1, dict_vowels2,\n",
    "             dict_y, dict_harmony_simple, dict_delete]\n",
    "    for dictionary in dicts:\n",
    "        a = (multiple_replace(dictionary, a))\n",
    "\n",
    "    return a"
   ]
  },
  {
   "cell_type": "code",
   "execution_count": 5,
   "metadata": {},
   "outputs": [],
   "source": [
    "dict_21_voiced = {}\n",
    "dict_21_cons = {}\n",
    "dict_21_vowels0 = {}\n",
    "dict_21_vowels1 = {}\n",
    "dict_21_harmony_simple = {}\n",
    "dict_21_vowels2 = {}\n",
    "dict_21_y = {'й':'y'}\n",
    "dict_21_others = {\"ь\": \"ʼ\"}\n",
    "\n",
    "for k, v in dict_voiced.items():\n",
    "    dict_21_voiced[v] = k\n",
    "for k, v in dict_cons.items():\n",
    "    dict_21_cons[v] = k\n",
    "for k, v in dict_vowels0.items():\n",
    "    dict_21_vowels0[v] = k\n",
    "for k, v in dict_vowels1.items():\n",
    "    dict_21_vowels1[v] = k\n",
    "for k, v in dict_harmony_simple.items():\n",
    "    dict_21_harmony_simple[v] = k\n",
    "for k, v in dict_vowels2.items():\n",
    "    dict_21_vowels2[v] = k"
   ]
  },
  {
   "cell_type": "code",
   "execution_count": 6,
   "metadata": {},
   "outputs": [],
   "source": [
    "def transliterate21(text):\n",
    "    a = (multiple_replace(dict_brackets, text))\n",
    "    \n",
    "    dicts = [dict_21_harmony_simple, dict_21_y, dict_21_vowels2, dict_21_vowels1, \n",
    "             dict_21_vowels0, dict_21_cons, dict_21_voiced, dict_21_others]\n",
    "    for dictionary in dicts:\n",
    "        a = (multiple_replace(dictionary, a))   \n",
    "    return a"
   ]
  },
  {
   "cell_type": "code",
   "execution_count": 7,
   "metadata": {},
   "outputs": [],
   "source": [
    "with open(\"lehtisalo_3_morf.txt\", \"r\") as f:\n",
    "    some_text = f.readlines()"
   ]
  },
  {
   "cell_type": "code",
   "execution_count": 8,
   "metadata": {},
   "outputs": [],
   "source": [
    "s_text = \"\"\n",
    "for line in some_text:\n",
    "    if len(line.split()) != 0:\n",
    "        if line.split()[0] in string.punctuation:\n",
    "            s_text = s_text[:-1] + line.split()[0] + \" \"\n",
    "        else:\n",
    "            s_text = s_text + line.split()[0] + \" \""
   ]
  },
  {
   "cell_type": "code",
   "execution_count": 9,
   "metadata": {
    "scrolled": true
   },
   "outputs": [
    {
     "data": {
      "text/plain": [
       "'хэбиде лахнаку. я мыдахана амкэрта яңкувы. хаерʼ яңкувы, пэбювы. ңопоы сиде несхаʼ хасовахаʼ таневахеʼ. тад нябихыʼ ненюдиʼ таневы, нябихыʼ ңаныʼ хасаво нюдиʼ таневы. таремʼ понʼ илесетыʼ хэвʼ илесетыʼ ңобʼ тане хуна няби хасаво манама:\" няве, тедаʼ таремʼ иле вево. тад нерняʼ ян-тер ненецемаʼ ханцер илеңкуʼ пэвдяхана? маныʼ тедаʼ нюныʼ ңэдаптаханыʼ, падар ненюр хаерңэ хэйе, мань ңаныʼ хасаво ню ирыңэ ңэдаптаңкув. тедаʼ хэванти нерне саце саво панеʼна ембяце тараңахаʼ.\" тад няби ма:\" ненасяңоʼ таремʼ саво ныв-ңаʼ. тад ңавна пэвдяхана ханцерʼ илеңкуваʼ?\" тад нехеюдиʼ ңаныʼ махаʼ:\" ибʼ ңэдаптаваюнаʼ ңэись, тедаʼ ханцерʼ ңэдаптаңкуюнаʼ, та хуна янʼ ненаʼ пырце-нюʼ.\" тад тикад падиʼ махаʼ:\" нумʼ хынцелиʼ табедапцекэхеюда.\" тад таремʼ лахнанантуʼ пыхыд ңобʼ хасаво мятан тю, ма:\" яптаʼ, хамадаʼ, амкэмʼ вадедаʼ?\" тад падуʼ маʼ:\" яңку, саце ңарка серкавмʼ нываʼ вадесʼ. манеʼ нюхуюнаʼ ңэдаптаванʼ харваваʼ, тад ңавна пэвде яхана иле ямаваʼ, тадаңоʼ тад нерняʼ ян-тер ненецʼ хынцерʼ илеңкуʼ пэвдяхана?\" тад хасаво ма:\" хэы, тикы амкэ ңарка серʼ, мань ңэдаптаңкуюн мынхан.\" тад тикы хасаво ма:\" ңада, пынʼ тарпаяхамтʼ!\" тад пынʼ тарпараңаюдуʼ тикы ңацекэхеʼ. тикы хасаво ңопоыʼ посхалңаюда, тикы ңацекэхеʼ леморңэ тийхаʼ. тад хонаыдʼ. хуняна юркмахадантуʼ тарце хаерада ялеңэ хэывы ңаныʼ сямян ян табёрʼ малʼ ңадиʼ. тад павсюменяна ңаныʼ иры ялеңэ хайе, ңоб-таремʼ яле. сяантʼ хунатʼ илебятуңоʼ падуʼ маʼ:\" тедаʼ ти манеʼ нюхуюнаʼ несаңэ хайехаʼ, ирыюмʼ хасаваңэ хайе, неюмʼ ңаныʼ неңэ хайе.\" тад таремʼ илевантуʼ серʼ маʼ:\" тедаʼ манеʼ тадебядаваʼ пюлхаваʼ, нюхуюнаʼ хынцерʼ илевамʼ хороптаись!\" тад тадебемʼ пюла. тикантуʼ тадебемʼ хоʼ. тад тадебямтуʼ меладуʼ. тадебядуʼ няхарʼ ңэдалава хэңкада. тад ңавеʼ ёлцеңкаʼна ныкэптедада. тад ма:\" тедаʼ нюхуюдаʼ неню мале ховехеʼ.\" тад падуʼ маидʼ, малʼ пэи ңобтʼ пэыдеʼ, маʼ:\" тедаб манеʼ нюхуюнаʼ илева ям-панʼ ңобкана илеңкуʼ ныхымʼ.\" тад тикы тадебе ма:\" мань тедаʼ падараʼ нюхуютаʼ ненюмʼ неданыʼ меванць хэванʼ харвадмʼ.\" тад паду маʼ:\" таремʼ саво, мараʼ нюхуюнаʼ нюмʼ манетаʼ нывамʼ.\" тад тикы тадебе пенцерцаваы ирынʼ пяда. ирынʼ тэывыʼ. ирынʼ ма:\" мань тедаʼ падарыʼ ненюмтиʼ меванце тодмʼ, таына нысенадиʼ небенадиʼ хаңадуʼ падарыʼ ненюмтиʼ.\" тад иры ма:\" маниʼ ненюмыʼ таравы ңэбʼ сиданыʼ тёконʼ вынесеʼ ңэдаптаңкуʼ;; нюмыʼ нымын татʼ. падар ңаныʼ мань нянан илева ямбян тёкона илиʼ! тад нерняʼ ян-тер ненецʼ тёкод сит маныйейеʼ, манцетайеʼ: иры ңаныʼ хаерадʼ ненюмʼ меванце хэывы хасава ирыхана ти тадада.\" тад та илелйедʼ. '"
      ]
     },
     "execution_count": 9,
     "metadata": {},
     "output_type": "execute_result"
    }
   ],
   "source": [
    "s_text # это система 2 lehtisalo (источник)"
   ]
  },
  {
   "cell_type": "code",
   "execution_count": 10,
   "metadata": {
    "scrolled": true
   },
   "outputs": [
    {
     "data": {
      "text/plain": [
       "'xæbʹídyæ ləxnəkú. ʹə mídəxənə əmkærtə ʹəңkúwí. xəyærʼ ʹəңkúwí, pæbyúwí. ңopoí sʹídyæ nyæsxəʼ xəsowəxəʼ tənyæwəxyæʼ. təd nʹəbʹíxíʼ nyænyúdʹíʼ tənyæwí, nʹəbʹíxíʼ ңəníʼ xəsəwo nyúdʹíʼ tənyæwí. təryæmʼ ponʼ ʹílyæsyætíʼ xæwʼ ʹílyæsyætíʼ ңobʼ tənyæ xúnə nʹəbʹí xəsəwo mənəmə:q nʹəwyæ, tyædəʼ təryæmʼ ʹílyæ wyæwo. təd nyærnʹəʼ ʹən-tyær nyænyæcyæməʼ xəncyær ʹílyæңkúʼ pæwdʹəxənə? məníʼ tyædəʼ nyúníʼ ңædəptəxəníʼ, pədər nyænyúr xəyærңæ xæyyæ, mənʼ ңəníʼ xəsəwo nyú ʹíríңæ ңædəptəңkúw. tyædəʼ xæwəntʹí nyærnyæ səcyæ səwo pənyæʼnə yæmbʹəcyæ tərəңəxəʼ.q təd nʹəbʹí mə:q nyænəsʹəңoʼ təryæmʼ səwo níw-ңəʼ. təd ңəwnə pæwdʹəxənə xəncyærʼ ʹílyæңkúwəʼ?q təd nyæxayúdʹíʼ ңəníʼ məxəʼ:q ʹíbʼ ңædəptəwəyúnəʼ ңæʹísʼ, tyædəʼ xəncyærʼ ңædəptəңkúyúnəʼ, tə xúnə ʹənʼ nyænəʼ pírcyæ-nyúʼ.q təd tʹíkəd pədʹíʼ məxəʼ:q númʼ xíncyælʹíʼ təbyædəpcyækæxyæyúdə.q təd təryæmʼ ləxnənəntúʼ píxad ңobʼ xəsəwo mʹətən tyú, mə:q ʹəptəʼ, xəmədəʼ, əmkæmʼ wədyædəʼ?q təd pədúʼ məʼ:q ʹəңkú, səcyæ ңərkə syærkəwmʼ níwəʼ wədyæsʼ. mənyæʼ nyúxúyúnəʼ ңædəptəwənʼ xərwəwəʼ, təd ңəwnə pæwdyæ ʹəxənə ʹílyæ ʹəməwəʼ, tədəңoʼ təd nyærnʹəʼ ʹən-tyær nyænyæcʼ xíncyærʼ ʹílyæңkúʼ pæwdʹəxənə?q təd xəsəwo mə:q xæí, tʹíkí əmkæ ңərkə syærʼ, mənʼ ңædəptəңkúyún mínxən.q təd tʹíkí xəsəwo mə:q ңədə, pínʼ tərpəʹəxəmtʼ!q təd pínʼ tərpərəңəyúdúʼ tʹíkí ңəcyækæxyæʼ. tʹíkí xəsəwo ңopoíʼ posxəlңəyúdə, tʹíkí ңəcyækæxyæʼ lyæmorңæ tʹíyxəʼ. təd xonəídʼ. xúnʹənə yúrkməxədəntúʼ tərcyæ xəyærədə ʹəlyæңæ xæíwí ңəníʼ sʹəmʹən ʹən təbyorʼ məlʼ ңədʹíʼ. təd pəwsyúmyænʹənə ңəníʼ ʹírí ʹəlyæңæ xəyyæ, ңob-təryæmʼ ʹəlyæ. sʹəəntʼ xúnətʼ ʹílyæbʹətúңoʼ pədúʼ məʼ:q tyædəʼ tʹí mənyæʼ nyúxúyúnəʼ nyæsəңæ xəyyæxəʼ, ʹíríyúmʼ xəsəwəңæ xəyyæ, nyæyúmʼ ңəníʼ nyæңæ xəyyæ.q təd təryæmʼ ʹílyæwəntúʼ syærʼ məʼ:q tyædəʼ mənyæʼ tədyæbʹədəwəʼ pyúlxəwəʼ, nyúxúyúnəʼ xíncyærʼ ʹílyæwəmʼ xoroptəʹísʼ!q təd tədyæbyæmʼ pyúlə. tʹíkəntúʼ tədyæbyæmʼ xoʼ. təd tədyæbʹəmtúʼ myælədúʼ. tədyæbʹədúʼ nʹəxərʼ ңædələwə xæңkədə. təd ңəwyæʼ yolcyæңkəʼnə níkæptyædədə. təd mə:q tyædəʼ nyúxúyúdəʼ nyænyú məlyæ xowyæxaʼ.q təd pədúʼ məʹídʼ, məlʼ pæʹí ңobtʼ pæídyæʼ, məʼ:q tyædəb mənyæʼ nyúxúyúnəʼ ʹílyæwə ʹəm-pənʼ ңobkənə ʹílyæңkúʼ níxamʼ.q təd tʹíkí tədyæbyæ mə:q mənʼ tyædəʼ pədərəʼ nyúxúyútəʼ nyænyúmʼ nyædəníʼ myæwəncʼ xæwənʼ xərwədmʼ.q təd pədú məʼ:q təryæmʼ səwo, mərəʼ nyúxúyúnəʼ nyúmʼ mənyætəʼ níwəmʼ.q təd tʹíkí tədyæbyæ pyæncyærcəwəí ʹírínʼ pʹədə. ʹírínʼ tæíwíʼ. ʹírínʼ mə:q mənʼ tyædəʼ pədəríʼ nyænyúmtʹíʼ myæwəncyæ todmʼ, təínə nísyænədʹíʼ nyæbyænədʹíʼ xəңədúʼ pədəríʼ nyænyúmtʹíʼ.q təd ʹírí mə:q mənʹíʼ nyænyúmíʼ tərəwí ңæbʼ sʹídəníʼ tyokonʼ wínyæsyæʼ ңædəptəңkúʼ;; nyúmíʼ nímín tətʼ. pədər ңəníʼ mənʼ nʹənən ʹílyæwə ʹəmbʹən tyokonə ʹílʹíʼ! təd nyærnʹəʼ ʹən-tyær nyænyæcʼ tyokod sʹít məníyyæyyæʼ, məncyætəyyæʼ: ʹírí ңəníʼ xəyærədʼ nyænyúmʼ myæwəncyæ xæíwí xəsəwə ʹíríxənə tʹí tədədə.q təd tə ʹílyælyyædʼ. '"
      ]
     },
     "execution_count": 10,
     "metadata": {},
     "output_type": "execute_result"
    }
   ],
   "source": [
    "transliterate21(s_text) # попытка транслитерации в систему 1"
   ]
  },
  {
   "cell_type": "code",
   "execution_count": 11,
   "metadata": {
    "scrolled": true
   },
   "outputs": [
    {
     "data": {
      "text/plain": [
       "'хэбиде лахнаку. я мыдахана амгэрта яңкувы. хаерʼ яңкувы, пэбювы. ңопоы сиде несхаʼ хасовахаʼ таневахеʼ. тад нябихыʼ ненюдиʼ таневы, нябихыʼ ңаныʼ хасаво нюдиʼ таневы. таремʼ понʼ илесетыʼ хэвʼ илесетыʼ ңобʼ тане хуна няби хасаво манама:\" няве, тедаʼ таремʼ иле вево. тад нерняʼ ян-тер ненецемаʼ ханзер илеңкуʼ пэвдяхана? маныʼ тедаʼ нюныʼ ңэдаптаханыʼ, падар ненюр хаерңэ хэйе, манʼ ңаныʼ хасаво ню ирыңэ ңэдаптаңкув. тедаʼ хэванди нерне саце саво панеʼна ембяце тараңахаʼ.\" тад няби ма:\" ненасяңоʼ таремʼ саво ныв-ңаʼ. тад ңавна пэвдяхана ханзерʼ илеңкуваʼ?\" тад нехаюдиʼ ңаныʼ махаʼ:\" ибʼ ңэдаптаваюнаʼ ңэисʼ, тедаʼ ханзерʼ ңэдаптаңкуюнаʼ, та хуна янʼ ненаʼ пырце-нюʼ.\" тад тикад падиʼ махаʼ:\" нумʼ хынзелиʼ табедапцекэхеюда.\" тад таремʼ лахнанандуʼ пыхад ңобʼ хасаво мятан тю, ма:\" яптаʼ, хамадаʼ, амгэмʼ вадедаʼ?\" тад падуʼ маʼ:\" яңку, саце ңарка серкавмʼ нываʼ вадесʼ. манеʼ нюхуюнаʼ ңэдаптаванʼ харваваʼ, тад ңавна пэвде яхана иле ямаваʼ, тадаңоʼ тад нерняʼ ян-тер ненецʼ хынзерʼ илеңкуʼ пэвдяхана?\" тад хасаво ма:\" хэы, тикы амгэ ңарка серʼ, манʼ ңэдаптаңкуюн мынхан.\" тад тикы хасаво ма:\" ңада, пынʼ тарпаяхамдʼ!\" тад пынʼ тарпараңаюдуʼ тикы ңацекэхеʼ. тикы хасаво ңопоыʼ посхалңаюда, тикы ңацекэхеʼ леморңэ тийхаʼ. тад хонаыдʼ. хуняна юркмахадандуʼ тарце хаерада ялеңэ хэывы ңаныʼ сямян ян табёрʼ малʼ ңадиʼ. тад павсюменяна ңаныʼ иры ялеңэ хайе, ңоб-таремʼ яле. сяандʼ хунатʼ илебятуңоʼ падуʼ маʼ:\" тедаʼ ти манеʼ нюхуюнаʼ несаңэ хайехаʼ, ирыюмʼ хасаваңэ хайе, неюмʼ ңаныʼ неңэ хайе.\" тад таремʼ илевандуʼ серʼ маʼ:\" тедаʼ манеʼ тадебядаваʼ пюлхаваʼ, нюхуюнаʼ хынзерʼ илевамʼ хороптаисʼ!\" тад тадебемʼ пюла. тикандуʼ тадебемʼ хоʼ. тад тадебямдуʼ меладуʼ. тадебядуʼ няхарʼ ңэдалава хэңкада. тад ңавеʼ ёлцеңкаʼна ныкэптедада. тад ма:\" тедаʼ нюхуюдаʼ неню мале ховехаʼ.\" тад падуʼ маидʼ, малʼ пэи ңобтʼ пэыдеʼ, маʼ:\" тедаб манеʼ нюхуюнаʼ илева ям-панʼ ңобкана илеңкуʼ ныхамʼ.\" тад тикы тадебе ма:\" манʼ тедаʼ падараʼ нюхуютаʼ ненюмʼ неданыʼ меванзʼ хэванʼ харвадмʼ.\" тад паду маʼ:\" таремʼ саво, мараʼ нюхуюнаʼ нюмʼ манетаʼ нывамʼ.\" тад тикы тадебе пензерцаваы ирынʼ пяда. ирынʼ тэывыʼ. ирынʼ ма:\" манʼ тедаʼ падарыʼ ненюмдиʼ меванзе тодмʼ, таына нысенадиʼ небенадиʼ хаңадуʼ падарыʼ ненюмдиʼ.\" тад иры ма:\" маниʼ ненюмыʼ таравы ңэбʼ сиданыʼ тёконʼ вынесеʼ ңэдаптаңкуʼ;; нюмыʼ нымын татʼ. падар ңаныʼ манʼ нянан илева ямбян тёкона илиʼ! тад нерняʼ ян-тер ненецʼ тёкод сит маныйейеʼ, манзетайеʼ: иры ңаныʼ хаерадʼ ненюмʼ меванзе хэывы хасава ирыхана ти тадада.\" тад та илелйедʼ. '"
      ]
     },
     "execution_count": 11,
     "metadata": {},
     "output_type": "execute_result"
    }
   ],
   "source": [
    "transliterate(transliterate21(s_text)) # попытка обратной транслитерации в систему 2"
   ]
  },
  {
   "cell_type": "code",
   "execution_count": null,
   "metadata": {},
   "outputs": [],
   "source": []
  }
 ],
 "metadata": {
  "kernelspec": {
   "display_name": "Python 3",
   "language": "python",
   "name": "python3"
  },
  "language_info": {
   "codemirror_mode": {
    "name": "ipython",
    "version": 3
   },
   "file_extension": ".py",
   "mimetype": "text/x-python",
   "name": "python",
   "nbconvert_exporter": "python",
   "pygments_lexer": "ipython3",
   "version": "3.7.3"
  }
 },
 "nbformat": 4,
 "nbformat_minor": 2
}
