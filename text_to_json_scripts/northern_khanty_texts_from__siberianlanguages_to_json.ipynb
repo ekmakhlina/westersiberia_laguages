{
  "nbformat": 4,
  "nbformat_minor": 0,
  "metadata": {
    "colab": {
      "name": "northern-khanty texts_from_ siberianlanguages_to_json.ipynb",
      "provenance": [],
      "toc_visible": true
    },
    "kernelspec": {
      "display_name": "Python 3",
      "language": "python",
      "name": "python3"
    },
    "language_info": {
      "codemirror_mode": {
        "name": "ipython",
        "version": 3
      },
      "file_extension": ".py",
      "mimetype": "text/x-python",
      "name": "python",
      "nbconvert_exporter": "python",
      "pygments_lexer": "ipython3",
      "version": "3.7.3"
    }
  },
  "cells": [
    {
      "cell_type": "code",
      "metadata": {
        "id": "q92JruuN-K03",
        "colab": {
          "base_uri": "https://localhost:8080/"
        },
        "outputId": "f56ed301-07c5-45e9-b4f0-bfc073ef8d14"
      },
      "source": [
        "import pandas as pd\n",
        "import re\n",
        "import string\n",
        "import collections\n",
        "from nltk import word_tokenize, wordpunct_tokenize\n",
        "import itertools\n",
        "import nltk\n",
        "import numpy as np\n",
        "import requests\n",
        "from bs4 import BeautifulSoup\n",
        "import json\n",
        "\n",
        "nltk.download('punkt')"
      ],
      "execution_count": null,
      "outputs": [
        {
          "output_type": "stream",
          "text": [
            "[nltk_data] Downloading package punkt to /root/nltk_data...\n",
            "[nltk_data]   Package punkt is already up-to-date!\n"
          ],
          "name": "stdout"
        },
        {
          "output_type": "execute_result",
          "data": {
            "text/plain": [
              "True"
            ]
          },
          "metadata": {
            "tags": []
          },
          "execution_count": 1
        }
      ]
    },
    {
      "cell_type": "code",
      "metadata": {
        "id": "dn7IJwVIEuYO"
      },
      "source": [
        "def get_all_content_parts(soup):\n",
        "  all_content = soup.find_all('div', {\"class\": \"tier\"}) \n",
        "  all_content_parts = []\n",
        "  part = []\n",
        "  for c in all_content:\n",
        "    if c.attrs['data-tier']=='ts_content_ostyak': #this\n",
        "      all_content_parts.append(part)\n",
        "      part = []\n",
        "      part.append(c)\n",
        "    else:\n",
        "      part.append(c)\n",
        "  all_content_parts.append(part)\n",
        "  return all_content_parts[1:]"
      ],
      "execution_count": null,
      "outputs": []
    },
    {
      "cell_type": "code",
      "metadata": {
        "id": "DkIN1reucnS8"
      },
      "source": [
        "def make_all_sentence_df(all_content_parts):\n",
        "  index = [i for i in range(len(all_content_parts))]\n",
        "  result = pd.DataFrame(index=index, columns=['sentence','morphemes','glosses_en', 'glosses_ru', 'translation_en', 'translation_ru'])\n",
        "  for i in index:\n",
        "    for c in all_content_parts[i]:\n",
        "      if c.attrs['data-tier']=='ts_content_ostyak': #this\n",
        "        result['sentence'][i] = c.string\n",
        "      if c.attrs['data-tier']=='ts_content_morph':\n",
        "        result['morphemes'][i] = c.string\n",
        "      if c.attrs['data-tier']=='ts_content_igt':\n",
        "        result['glosses_en'][i] = c.string \n",
        "      if c.attrs['data-tier']=='ts_content_igt_ru':\n",
        "        result['glosses_ru'][i] = c.string    \n",
        "      if c.attrs['data-tier']=='ts_content_eng':\n",
        "        result['translation_en'][i] = c.string\n",
        "      if c.attrs['data-tier']=='ts_content_rus':\n",
        "        result['translation_ru'][i] = c.string\n",
        "  return result"
      ],
      "execution_count": null,
      "outputs": []
    },
    {
      "cell_type": "code",
      "metadata": {
        "id": "b3ffOntbIzgF"
      },
      "source": [
        "def string_into_tokens(s):\n",
        "    wo_brackets = [i for i in s.split() if '[' not in s]\n",
        "    ll = [[word_tokenize(w), ' '] for w in wo_brackets]\n",
        "    s_list = list(itertools.chain(*list(itertools.chain(*ll))))\n",
        "    return s_list"
      ],
      "execution_count": null,
      "outputs": []
    },
    {
      "cell_type": "code",
      "metadata": {
        "id": "cVAmGm1Ndctb"
      },
      "source": [
        "def make_sentence_words_arr(all_sentences, i):\n",
        "    #print(i)\n",
        "    wf_arr = []\n",
        "    tokens = string_into_tokens(all_sentences['sentence'][i])\n",
        "    #print(tokens)\n",
        "    #print(all_sentences['morphemes'][i])\n",
        "    try:\n",
        "      morphemes = all_sentences['morphemes'][i].split()\n",
        "    except AttributeError:\n",
        "      morphemes = np.nan\n",
        "    #print(morphemes)\n",
        "    #print(len(morphemes))\n",
        "    try:\n",
        "      glosses_en = all_sentences['glosses_en'][i].split()\n",
        "    except AttributeError:\n",
        "      glosses_en = np.nan\n",
        "    try:\n",
        "      glosses_ru = all_sentences['glosses_ru'][i].split()\n",
        "    except:\n",
        "      glosses_ru = np.nan\n",
        "    j = 0\n",
        "    off_start = 0\n",
        "    sentence_index = 0\n",
        "    for k in range(len(tokens)):\n",
        "        if tokens[k] == ' ':\n",
        "            off_start += len(tokens[k])\n",
        "            continue\n",
        "        elif tokens[k] in string.punctuation:\n",
        "            wf_arr.append(collections.OrderedDict({\n",
        "                'wf': tokens[k],\n",
        "                'wtype': 'punct',\n",
        "                'off_start': off_start,\n",
        "                'off_end': off_start + len(tokens[k]),\n",
        "                'next_word': sentence_index+1,\n",
        "                'sentence_index': sentence_index\n",
        "                #'ana': False\n",
        "            }))\n",
        "            sentence_index += 1\n",
        "        else:\n",
        "            try:\n",
        "              glosses_en_j=glosses_en[j]\n",
        "            except:\n",
        "              glosses_en_j=''  \n",
        "            try:\n",
        "              glosses_ru_j=glosses_ru[j]\n",
        "            except:\n",
        "              glosses_ru_j=''\n",
        "            try:\n",
        "              morphemes_j=morphemes[j]\n",
        "            except:\n",
        "              morphemes_j=''            \n",
        "            wf_arr.append(collections.OrderedDict({\n",
        "                'wf': tokens[k],\n",
        "                'wtype': 'word',\n",
        "                'off_start': off_start,\n",
        "                'off_end': off_start + len(tokens[k]),\n",
        "                'next_word': sentence_index+1,\n",
        "                'sentence_index': sentence_index,\n",
        "                'ana': [{'glosses_ru': glosses_ru_j, 'glosses_en': glosses_en_j, 'morphemes': morphemes_j}]\n",
        "                #\"ana\": [{\"lex\": \"ojorsp\", \"gr.pos\": \"V\", \"gr.pers\": \"2\", \"gr.tense\": \"t1\"}]\n",
        "            }))\n",
        "            j += 1\n",
        "            sentence_index += 1\n",
        "        off_start += len(tokens[k])\n",
        "    return wf_arr\n"
      ],
      "execution_count": null,
      "outputs": []
    },
    {
      "cell_type": "code",
      "metadata": {
        "id": "0qKLzuJqY0Mh"
      },
      "source": [
        "def make_json(soup):\n",
        "  all_sentences = []\n",
        "  all_sentences_df = make_all_sentence_df(get_all_content_parts(soup))\n",
        "  for i in range(len(all_sentences_df)):\n",
        "    all_sentences.append(collections.OrderedDict({\n",
        "              'text': all_sentences_df['sentence'][i],\n",
        "              'words': make_sentence_words_arr(all_sentences_df, i),\n",
        "              'lang': 2 #this\n",
        "          }))\n",
        "  one_text = {\n",
        "    \"sentences\": all_sentences,\n",
        "    \"meta\": {\"author\": 'author', \"title\": soup.title.string, \"year\": '', \"id\": 1}\n",
        "  }\n",
        "  return one_text"
      ],
      "execution_count": null,
      "outputs": []
    },
    {
      "cell_type": "code",
      "metadata": {
        "id": "ZLxBXEr29o1X"
      },
      "source": [
        "import requests\n",
        "from bs4 import BeautifulSoup"
      ],
      "execution_count": null,
      "outputs": []
    },
    {
      "cell_type": "code",
      "metadata": {
        "id": "DpjC3hhKD_3K"
      },
      "source": [
        "def get_all_urls(main_url):\n",
        "  all_urls = []\n",
        "  r = requests.get(main_url)\n",
        "  soup = BeautifulSoup(r.content)\n",
        "  titles = soup.find_all('h1', {'class': \"entry-title\"})\n",
        "  for title in titles:\n",
        "    all_urls.append(next(title.children).attrs['href'])\n",
        "  return all_urls\n"
      ],
      "execution_count": null,
      "outputs": []
    },
    {
      "cell_type": "code",
      "metadata": {
        "id": "Bb3PNw4aGXws"
      },
      "source": [
        "!mkdir 'northern-khanty' #this"
      ],
      "execution_count": null,
      "outputs": []
    },
    {
      "cell_type": "code",
      "metadata": {
        "id": "v52Q-DIx_k8c"
      },
      "source": [
        "main_url = 'http://www.siberianlanguages.surrey.ac.uk/language/northern-khanty/?post_types=ava,avv' #this\n",
        "all_urls = get_all_urls(main_url)\n",
        "for url in all_urls:\n",
        "  r = requests.get(url)\n",
        "  soup = BeautifulSoup(r.content)\n",
        "  text_json = make_json(soup)\n",
        "  name = 'northern-khanty/' + soup.title.string + '.json' #this\n",
        "  with open(name, 'w', encoding='utf-8') as f:\n",
        "      json.dump(text_json, f, ensure_ascii=False, indent=4)"
      ],
      "execution_count": null,
      "outputs": []
    },
    {
      "cell_type": "code",
      "metadata": {
        "id": "6CpLlQX1HrR9",
        "colab": {
          "base_uri": "https://localhost:8080/"
        },
        "outputId": "8e98677d-f8de-417c-f419-2e05dd8896aa"
      },
      "source": [
        "print('ura2')"
      ],
      "execution_count": null,
      "outputs": [
        {
          "output_type": "stream",
          "text": [
            "ura2\n"
          ],
          "name": "stdout"
        }
      ]
    },
    {
      "cell_type": "code",
      "metadata": {
        "id": "Dld1XE-9GaWT",
        "colab": {
          "base_uri": "https://localhost:8080/"
        },
        "outputId": "f6ec73f9-b812-4469-d2eb-c7f71ba31538"
      },
      "source": [
        "!zip -r northern-khanty.zip northern-khanty #this"
      ],
      "execution_count": null,
      "outputs": [
        {
          "output_type": "stream",
          "text": [
            "  adding: northern-khanty/ (stored 0%)\n",
            "  adding: northern-khanty/A squirrel on the Supteng river - Endangered Languages and Cultures of Siberia.json (deflated 95%)\n",
            "  adding: northern-khanty/Hunter Grandson - Endangered Languages and Cultures of Siberia.json (deflated 93%)\n",
            "  adding: northern-khanty/The old man and the swans - Endangered Languages and Cultures of Siberia.json (deflated 94%)\n",
            "  adding: northern-khanty/Mitxuj and Melesnik - Endangered Languages and Cultures of Siberia.json (deflated 94%)\n",
            "  adding: northern-khanty/Maxim - Endangered Languages and Cultures of Siberia.json (deflated 93%)\n",
            "  adding: northern-khanty/Pim-pim - Endangered Languages and Cultures of Siberia.json (deflated 89%)\n",
            "  adding: northern-khanty/The groom with three white reindeer - Endangered Languages and Cultures of Siberia.json (deflated 95%)\n",
            "  adding: northern-khanty/Brother and sister - Endangered Languages and Cultures of Siberia.json (deflated 94%)\n",
            "  adding: northern-khanty/The seven sisters and the wood grouse - Endangered Languages and Cultures of Siberia.json (deflated 93%)\n",
            "  adding: northern-khanty/Aj-numti-ara - Endangered Languages and Cultures of Siberia.json (deflated 95%)\n",
            "  adding: northern-khanty/The devil - Endangered Languages and Cultures of Siberia.json (deflated 34%)\n",
            "  adding: northern-khanty/Palchik - Endangered Languages and Cultures of Siberia.json (deflated 94%)\n",
            "  adding: northern-khanty/The Tsar's sons and the town boy - Endangered Languages and Cultures of Siberia.json (deflated 94%)\n",
            "  adding: northern-khanty/Fox - Endangered Languages and Cultures of Siberia.json (deflated 94%)\n",
            "  adding: northern-khanty/Russian city man - Endangered Languages and Cultures of Siberia.json (deflated 94%)\n",
            "  adding: northern-khanty/The Por woman and the orphans - Endangered Languages and Cultures of Siberia.json (deflated 35%)\n",
            "  adding: northern-khanty/The Old Nenets man and his herd of ten thousand - Endangered Languages and Cultures of Siberia.json (deflated 96%)\n",
            "  adding: northern-khanty/The man of tales and the squirrel - Endangered Languages and Cultures of Siberia.json (deflated 94%)\n",
            "  adding: northern-khanty/My native land of Sob - Endangered Languages and Cultures of Siberia.json (deflated 95%)\n",
            "  adding: northern-khanty/The cuckoo - Endangered Languages and Cultures of Siberia.json (deflated 93%)\n",
            "  adding: northern-khanty/Elder brother and younger brother - Endangered Languages and Cultures of Siberia.json (deflated 93%)\n",
            "  adding: northern-khanty/Burials - Endangered Languages and Cultures of Siberia.json (deflated 93%)\n",
            "  adding: northern-khanty/Dialogue - Endangered Languages and Cultures of Siberia.json (deflated 93%)\n",
            "  adding: northern-khanty/Kuropatka and the old man - Endangered Languages and Cultures of Siberia.json (deflated 93%)\n",
            "  adding: northern-khanty/The crow song - Endangered Languages and Cultures of Siberia.json (deflated 97%)\n",
            "  adding: northern-khanty/The wonderful son - Endangered Languages and Cultures of Siberia.json (deflated 94%)\n",
            "  adding: northern-khanty/The Mos woman and the Pos woman - Endangered Languages and Cultures of Siberia.json (deflated 94%)\n",
            "  adding: northern-khanty/Little beast - Endangered Languages and Cultures of Siberia.json (deflated 96%)\n",
            "  adding: northern-khanty/Sawas and the three Por woman - Endangered Languages and Cultures of Siberia.json (deflated 93%)\n",
            "  adding: northern-khanty/The Tungus wife - Endangered Languages and Cultures of Siberia.json (deflated 96%)\n",
            "  adding: northern-khanty/The seven knives - Endangered Languages and Cultures of Siberia.json (deflated 93%)\n",
            "  adding: northern-khanty/Wajnin - Endangered Languages and Cultures of Siberia.json (deflated 94%)\n",
            "  adding: northern-khanty/Squirrel - Endangered Languages and Cultures of Siberia.json (deflated 93%)\n",
            "  adding: northern-khanty/Kuzma and his strong comrades - Endangered Languages and Cultures of Siberia.json (deflated 94%)\n",
            "  adding: northern-khanty/Ob Gull - Endangered Languages and Cultures of Siberia.json (deflated 95%)\n",
            "  adding: northern-khanty/In the little town - Endangered Languages and Cultures of Siberia.json (deflated 95%)\n",
            "  adding: northern-khanty/Ivan Durachok - Endangered Languages and Cultures of Siberia.json (deflated 93%)\n",
            "  adding: northern-khanty/Katravozh - Endangered Languages and Cultures of Siberia.json (deflated 96%)\n",
            "  adding: northern-khanty/Muskrat - Endangered Languages and Cultures of Siberia.json (deflated 93%)\n",
            "  adding: northern-khanty/Women of the Sar river - Endangered Languages and Cultures of Siberia.json (deflated 96%)\n",
            "  adding: northern-khanty/Seven brothers - Endangered Languages and Cultures of Siberia.json (deflated 96%)\n",
            "  adding: northern-khanty/Imi-Xili - Endangered Languages and Cultures of Siberia.json (deflated 94%)\n",
            "  adding: northern-khanty/Big bird - Endangered Languages and Cultures of Siberia.json (deflated 96%)\n",
            "  adding: northern-khanty/The white cuckoo's song - Endangered Languages and Cultures of Siberia.json (deflated 95%)\n",
            "  adding: northern-khanty/The little mouse - Endangered Languages and Cultures of Siberia.json (deflated 96%)\n"
          ],
          "name": "stdout"
        }
      ]
    },
    {
      "cell_type": "code",
      "metadata": {
        "id": "c_GSenNiIQUr"
      },
      "source": [
        ""
      ],
      "execution_count": null,
      "outputs": []
    }
  ]
}